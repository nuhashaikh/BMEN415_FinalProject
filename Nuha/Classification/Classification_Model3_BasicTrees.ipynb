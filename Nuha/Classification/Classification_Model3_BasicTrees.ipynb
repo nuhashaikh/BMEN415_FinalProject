{
  "cells": [
    {
      "cell_type": "code",
      "execution_count": 1,
      "metadata": {
        "id": "kc5kQFIhAycv"
      },
      "outputs": [],
      "source": [
        "import numpy as np  # Importing NumPy library\n",
        "import pandas as pd  # Importing Pandas library\n",
        "import matplotlib.pyplot as plt  # Importing Matplotlib library's \"pyplot\" module\n",
        "import seaborn as sns  # Imorting Seaborn library\n",
        "\n",
        "import os"
      ]
    },
    {
      "cell_type": "code",
      "execution_count": 2,
      "metadata": {
        "id": "iTC7su_WILgA"
      },
      "outputs": [],
      "source": [
        "data = pd.read_csv(\"breast-cancer.csv\")"
      ]
    },
    {
      "cell_type": "code",
      "execution_count": 3,
      "metadata": {
        "id": "KZ_sGsIMIOpo"
      },
      "outputs": [],
      "source": [
        "data['diagnosis'] = data['diagnosis'].map({'M': 0, 'B': 1}).astype(float)\n",
        "X = data.drop([\"diagnosis\"], axis=1) \n",
        "y = data.diagnosis.values"
      ]
    },
    {
      "cell_type": "code",
      "execution_count": 4,
      "metadata": {
        "colab": {
          "base_uri": "https://localhost:8080/"
        },
        "id": "bCQx5ZJIKYDt",
        "outputId": "42963f95-7186-4bb3-f9a5-949b9b26d5db"
      },
      "outputs": [
        {
          "name": "stderr",
          "output_type": "stream",
          "text": [
            "C:\\Users\\Mansoor\\AppData\\Roaming\\Python\\Python39\\site-packages\\sklearn\\base.py:443: UserWarning: X has feature names, but SelectFromModel was fitted without feature names\n",
            "  warnings.warn(\n"
          ]
        },
        {
          "data": {
            "text/plain": [
              "(569, 8)"
            ]
          },
          "execution_count": 4,
          "metadata": {},
          "output_type": "execute_result"
        }
      ],
      "source": [
        "from sklearn.ensemble import ExtraTreesRegressor\n",
        "from sklearn.feature_selection import SelectFromModel\n",
        "X.shape\n",
        "featsel = ExtraTreesRegressor(n_estimators=50) #might need to change this number\n",
        "featsel = featsel.fit(X, y)\n",
        "featsel.feature_importances_  \n",
        "model = SelectFromModel(featsel, prefit=True)\n",
        "X_new = model.transform(X)\n",
        "X_new.shape               "
      ]
    },
    {
      "cell_type": "code",
      "execution_count": 5,
      "metadata": {
        "id": "hWt9v9CrIQW6"
      },
      "outputs": [],
      "source": [
        "from sklearn.model_selection import train_test_split \n",
        "\n",
        "x_train, x_test, y_train, y_test = train_test_split(X_new, y, test_size=0.2, random_state=1)"
      ]
    },
    {
      "cell_type": "code",
      "execution_count": 6,
      "metadata": {
        "colab": {
          "base_uri": "https://localhost:8080/",
          "height": 367
        },
        "id": "y16xSrt7IkeV",
        "outputId": "9740e67a-fc69-4c48-aa5e-0590854b5110"
      },
      "outputs": [
        {
          "data": {
            "text/plain": [
              "array([0., 0., 1., 0., 1., 0., 0., 0., 1., 1., 1., 0., 0., 1., 1., 1., 1.,\n",
              "       1., 1., 0., 1., 1., 0., 1., 0., 1., 1., 0., 0., 0., 0., 1., 0., 0.,\n",
              "       1., 1., 0., 1., 1., 1., 1., 1., 1., 1., 1., 0., 1., 1., 1., 0., 0.,\n",
              "       0., 1., 1., 1., 1., 1., 0., 1., 1., 1., 0., 1., 1., 1., 1., 1., 0.,\n",
              "       1., 1., 1., 1., 1., 0., 1., 0., 1., 1., 1., 0., 1., 0., 1., 0., 1.,\n",
              "       1., 0., 1., 0., 1., 1., 0., 1., 1., 0., 0., 1., 1., 1., 1., 1., 1.,\n",
              "       1., 1., 1., 1., 1., 1., 0., 0., 0., 0., 1., 1.])"
            ]
          },
          "execution_count": 6,
          "metadata": {},
          "output_type": "execute_result"
        },
        {
          "data": {
            "image/png": "[encoded data removed]",
            "text/plain": [
              "<Figure size 432x288 with 1 Axes>"
            ]
          },
          "metadata": {
            "needs_background": "light"
          },
          "output_type": "display_data"
        }
      ],
      "source": [
        "from sklearn import tree\n",
        "from sklearn.tree import DecisionTreeClassifier\n",
        "\n",
        "btree = tree.DecisionTreeClassifier()\n",
        "\n",
        "btree = btree.fit(x_train, y_train)\n",
        "\n",
        "tree.plot_tree(btree)\n",
        "\n",
        "btree.predict(x_test)"
      ]
    },
    {
      "cell_type": "code",
      "execution_count": 7,
      "metadata": {
        "colab": {
          "base_uri": "https://localhost:8080/"
        },
        "id": "jrj4YHq9ImH6",
        "outputId": "e6f99c26-429d-40a6-f791-2cf938cb92bb"
      },
      "outputs": [
        {
          "data": {
            "text/plain": [
              "0.9385964912280702"
            ]
          },
          "execution_count": 7,
          "metadata": {},
          "output_type": "execute_result"
        }
      ],
      "source": [
        "btree.score(x_test, y_test)"
      ]
    },
    {
      "cell_type": "code",
      "execution_count": 11,
      "metadata": {
        "colab": {
          "base_uri": "https://localhost:8080/"
        },
        "id": "IaDgliPrITyW",
        "outputId": "783b4588-a36a-4291-faee-e31d0766a438"
      },
      "outputs": [
        {
          "name": "stdout",
          "output_type": "stream",
          "text": [
            "Training Accuracy for Basic Trees Model:  100.0\n",
            "Testing Accuracy for Basic Trees Model:  73.61111111111111\n"
          ]
        }
      ],
      "source": [
        "from sklearn.metrics import r2_score  # For find accuracy with R2 Score\n",
        "from sklearn.metrics import mean_squared_error  # For MSE\n",
        "from math import sqrt  # For squareroot operation\n",
        "\n",
        "y_pred_train = btree.predict(x_train)\n",
        "y_pred_test = btree.predict(x_test)\n",
        "\n",
        "accuracy_train = r2_score(y_train, y_pred_train)\n",
        "print(\"Training Accuracy for Basic Trees Model: \", accuracy_train*100)\n",
        "\n",
        "accuracy_test = r2_score(y_test, y_pred_test)\n",
        "print(\"Testing Accuracy for Basic Trees Model: \", accuracy_test*100)\n"
      ]
    },
    {
      "cell_type": "code",
      "execution_count": 10,
      "metadata": {},
      "outputs": [
        {
          "data": {
            "text/plain": [
              "<AxesSubplot:>"
            ]
          },
          "execution_count": 10,
          "metadata": {},
          "output_type": "execute_result"
        },
        {
          "data": {
            "image/png": "[encoded data removed]",
            "text/plain": [
              "<Figure size 432x288 with 2 Axes>"
            ]
          },
          "metadata": {
            "needs_background": "light"
          },
          "output_type": "display_data"
        }
      ],
      "source": [
        "from sklearn.model_selection import cross_val_predict  # For K-Fold Cross Validation\n",
        "from math import sqrt  # For squareroot operation\n",
        "from sklearn.metrics import mean_squared_error  # For MSE\n",
        "from sklearn.metrics import r2_score  # For find accuracy with R2 Score\n",
        "from sklearn.metrics import confusion_matrix\n",
        "from sklearn.metrics import accuracy_score\n",
        "\n",
        "y_pred_LR_train = btree.predict(x_train)\n",
        "y_pred_LR_test = btree.predict(x_test)\n",
        "\n",
        "cm = confusion_matrix(y_test, y_pred_LR_test)\n",
        "sns.heatmap(cm, annot=True)\n"
      ]
    }
  ],
  "metadata": {
    "colab": {
      "name": "Classification_Model3_BasicTrees.ipynb",
      "provenance": []
    },
    "kernelspec": {
      "display_name": "Python 3",
      "name": "python3"
    },
    "language_info": {
      "codemirror_mode": {
        "name": "ipython",
        "version": 3
      },
      "file_extension": ".py",
      "mimetype": "text/x-python",
      "name": "python",
      "nbconvert_exporter": "python",
      "pygments_lexer": "ipython3",
      "version": "3.9.5"
    }
  },
  "nbformat": 4,
  "nbformat_minor": 0
}
