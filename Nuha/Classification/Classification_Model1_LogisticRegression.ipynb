{
  "cells": [
    {
      "cell_type": "code",
      "execution_count": 1,
      "metadata": {
        "id": "1YtTi86WAlRE"
      },
      "outputs": [],
      "source": [
        "import numpy as np  # Importing NumPy library\n",
        "import pandas as pd  # Importing Pandas library\n",
        "import matplotlib.pyplot as plt  # Importing Matplotlib library's \"pyplot\" module\n",
        "import seaborn as sns  # Imorting Seaborn library\n",
        "\n",
        "import os"
      ]
    },
    {
      "cell_type": "code",
      "execution_count": 2,
      "metadata": {
        "id": "C0vr-i-rBSPx"
      },
      "outputs": [],
      "source": [
        "data = pd.read_csv(\"breast-cancer.csv\")"
      ]
    },
    {
      "cell_type": "code",
      "execution_count": 3,
      "metadata": {
        "id": "igFWT4lTBUg4"
      },
      "outputs": [],
      "source": [
        "data['diagnosis'] = data['diagnosis'].map({'M': 0, 'B': 1}).astype(float)\n",
        "X = data.drop([\"diagnosis\"], axis=1) \n",
        "y = data.diagnosis.values"
      ]
    },
    {
      "cell_type": "code",
      "execution_count": 4,
      "metadata": {
        "id": "sW-8-KoKBj6o"
      },
      "outputs": [],
      "source": [
        "from sklearn.model_selection import train_test_split \n",
        "\n",
        "x_train, x_test, y_train, y_test = train_test_split(X, y, test_size=0.2, random_state=1)"
      ]
    },
    {
      "cell_type": "code",
      "execution_count": 5,
      "metadata": {
        "colab": {
          "base_uri": "https://localhost:8080/"
        },
        "id": "kDzZTHjgBlsF",
        "outputId": "3de6d41e-d423-423e-ece5-d89c77f348df"
      },
      "outputs": [
        {
          "data": {
            "text/plain": [
              "0.631578947368421"
            ]
          },
          "execution_count": 5,
          "metadata": {},
          "output_type": "execute_result"
        }
      ],
      "source": [
        "from sklearn.linear_model import LogisticRegression\n",
        "\n",
        "# all parameters not specified are set to their defaults\n",
        "logisticRegr = LogisticRegression()\n",
        "logisticRegr.fit(x_train, y_train)\n",
        "logisticRegr.score(x_test, y_test)"
      ]
    },
    {
      "cell_type": "code",
      "execution_count": 6,
      "metadata": {
        "colab": {
          "base_uri": "https://localhost:8080/"
        },
        "id": "TiN6Tjf2BnWx",
        "outputId": "ffe1d60d-6dd5-4bc4-c2ac-53018ef32c8d"
      },
      "outputs": [
        {
          "name": "stdout",
          "output_type": "stream",
          "text": [
            "Training Accuracy for Logistic Regression Model:  -0.5964912280701753\n",
            "Testing Accuracy for Logistic Regression Model:  -0.5833333333333333\n",
            "RMSE for Training Data:  0.6112498455021266\n",
            "RMSE for Testing Data:  0.6069769786668839\n"
          ]
        }
      ],
      "source": [
        "from sklearn.model_selection import cross_val_predict  # For K-Fold Cross Validation\n",
        "from math import sqrt  # For squareroot operation\n",
        "from sklearn.metrics import mean_squared_error  # For MSE\n",
        "from sklearn.metrics import r2_score  # For find accuracy with R2 Score\n",
        "\n",
        "y_pred_LR_train = logisticRegr.predict(x_train)\n",
        "y_pred_LR_test = logisticRegr.predict(x_test)\n",
        "\n",
        "r2_LR_train = r2_score(y_train, y_pred_LR_train)\n",
        "print(\"Training Accuracy for Logistic Regression Model: \", r2_LR_train)\n",
        "\n",
        "r2_LR_test = r2_score(y_test, y_pred_LR_test)\n",
        "print(\"Testing Accuracy for Logistic Regression Model: \", r2_LR_test)\n",
        "\n",
        "RMSE_LR_train = sqrt(mean_squared_error(y_train, y_pred_LR_train))\n",
        "print(\"RMSE for Training Data: \", RMSE_LR_train)\n",
        "\n",
        "RMSE_LR_test = sqrt(mean_squared_error(y_test, y_pred_LR_test))\n",
        "print(\"RMSE for Testing Data: \", RMSE_LR_test)"
      ]
    }
  ],
  "metadata": {
    "colab": {
      "name": "Classification_Model1_LogisticRegression.ipynb",
      "provenance": []
    },
    "kernelspec": {
      "display_name": "Python 3",
      "name": "python3"
    },
    "language_info": {
      "codemirror_mode": {
        "name": "ipython",
        "version": 3
      },
      "file_extension": ".py",
      "mimetype": "text/x-python",
      "name": "python",
      "nbconvert_exporter": "python",
      "pygments_lexer": "ipython3",
      "version": "3.9.5"
    }
  },
  "nbformat": 4,
  "nbformat_minor": 0
}
