{
 "cells": [
  {
   "cell_type": "code",
   "execution_count": null,
   "metadata": {},
   "outputs": [],
   "source": [
    "#import libraries\n",
    "import pandas as pd\n",
    "import numpy as np\n",
    "import seaborn as sns\n",
    "import matplotlib.pyplot as plt\n",
    "from sklearn.model_selection import train_test_split\n",
    "from sklearn.preprocessing import StandardScaler\n",
    "from sklearn import neighbors\n",
    "from sklearn.metrics import mean_squared_error \n",
    "from math import sqrt\n",
    "from sklearn.metrics import r2_score\n",
    "from pyearth import Earth\n",
    "from sklearn.ensemble import GradientBoostingRegressor"
   ]
  },
  {
   "cell_type": "code",
   "execution_count": null,
   "metadata": {},
   "outputs": [],
   "source": [
    "#import data set and creat feature and target space\n",
    "df = pd.read_csv(r'Volumetric_features.csv')\n",
    "X=df.drop(columns=['S.No','dataset','Age'])\n",
    "y=df['Age']\n",
    "\n",
    "df.head(10)"
   ]
  },
  {
   "cell_type": "code",
   "execution_count": null,
   "metadata": {},
   "outputs": [],
   "source": [
    "#age distribution in the data set\n",
    "df['Age'].hist(bins=10)\n",
    "plt.ylabel('Number of Samples')\n",
    "plt.xlabel('Age')\n",
    "plt.title('Age Distribution')\n",
    "plt.show()"
   ]
  },
  {
   "cell_type": "code",
   "execution_count": null,
   "metadata": {},
   "outputs": [],
   "source": [
    "#creat correlation matrix\n",
    "df_new =df.drop(columns=['S.No','dataset'])\n",
    "correlation_matrix = df_new.corr()\n",
    "correlation_matrix['Age']\n",
    "dataplot = sns.heatmap(correlation_matrix, cmap=\"YlGnBu\", annot=False)\n",
    "plt.show()"
   ]
  },
  {
   "cell_type": "code",
   "execution_count": null,
   "metadata": {},
   "outputs": [],
   "source": [
    "#printing features that have important correlation with diagnosis\n",
    "cor_target = abs(correlation_matrix['Age']) \n",
    "relevant_features = cor_target[cor_target>0.2]\n",
    "print(relevant_features) \n",
    "\n",
    "features_to_drop = cor_target[cor_target<0.2] #script to eliminate features with low correlation\n",
    "to_drop_frame = features_to_drop.to_frame()\n",
    "row_names = to_drop_frame.index\n",
    "row_names_list = list(row_names)\n",
    "row_names_list.append('Age')\n",
    "row_names_list.append('S.No')\n",
    "row_names_list.append('dataset')\n",
    "y = df['Age'].values\n",
    "x = df.drop(row_names_list, axis=1)"
   ]
  },
  {
   "cell_type": "code",
   "execution_count": null,
   "metadata": {},
   "outputs": [],
   "source": [
    "#data space for model with and without feature selection\n",
    "X_train, X_test, y_train, y_test = train_test_split(X,y,test_size=0.25)\n",
    "X_train2,X_test2,y_train2,y_test2 = train_test_split(x,y,test_size=0.25) #model with feature selection\n",
    "\n",
    "#scaling features\n",
    "scaler = StandardScaler()\n",
    "scaler2 = StandardScaler()\n",
    "scaler.fit(X_train)\n",
    "scaler2.fit(X_train2)\n",
    "\n",
    "X_train = scaler.transform(X_train)\n",
    "X_test = scaler.transform(X_test)\n",
    "\n",
    "X_train2 = scaler2.transform(X_train2)\n",
    "X_test2 = scaler2.transform(X_test2)"
   ]
  },
  {
   "cell_type": "code",
   "execution_count": null,
   "metadata": {},
   "outputs": [],
   "source": [
    "#elbow curve for model w/o feature selection\n",
    "rmse_val = [] #to store rmse values for different k\n",
    "a = []\n",
    "for K in range(80):\n",
    "    K = K+1\n",
    "    model = neighbors.KNeighborsRegressor(n_neighbors = K)\n",
    "\n",
    "    model.fit(X_train, y_train)  #fit the model\n",
    "    pred=model.predict(X_test) #make prediction on test set\n",
    "    error = sqrt(mean_squared_error(y_test,pred)) #calculate rmse\n",
    "    rmse_val.append(error) #store rmse values\n",
    "    a.append(K)\n",
    "\n",
    "plt.plot(a, rmse_val)\n",
    "plt.ylabel('RMSE')\n",
    "plt.xlabel('Number of Neighbors')\n",
    "plt.title('Neighbors Optimization w/o Feature Selection')\n",
    "plt.show()"
   ]
  },
  {
   "cell_type": "code",
   "execution_count": null,
   "metadata": {},
   "outputs": [],
   "source": [
    "#elbow curve for model w/ feature selection\n",
    "rmse_val2 = [] #to store rmse values for different k\n",
    "a2 = []\n",
    "for K in range(80):\n",
    "    K = K+1\n",
    "    model2 = neighbors.KNeighborsRegressor(n_neighbors = K)\n",
    "\n",
    "    model2.fit(X_train2, y_train2)  #fit the model\n",
    "    pred2=model2.predict(X_test2) #make prediction on test set\n",
    "    error2 = sqrt(mean_squared_error(y_test2,pred2)) #calculate rmse\n",
    "    rmse_val2.append(error2) #store rmse values\n",
    "    a2.append(K)\n",
    "\n",
    "plt.plot(a2, rmse_val2)\n",
    "plt.ylabel('RMSE')\n",
    "plt.xlabel('Number of Neighbors')\n",
    "plt.title('Neighbors Optimization w/ Feature Selection')\n",
    "plt.show()"
   ]
  },
  {
   "cell_type": "code",
   "execution_count": null,
   "metadata": {},
   "outputs": [],
   "source": [
    "#KNN Models\n",
    "model = neighbors.KNeighborsRegressor(n_neighbors = 12)\n",
    "model.fit(X_train, y_train)  #fit the model\n",
    "pred=model.predict(X_test) #make prediction on test set\n",
    "error = (mean_squared_error(y_test,pred)) #calculate rmse\n",
    "\n",
    "print('Model accuracies without feature selection')\n",
    "print(f'RSQ: {r2_score(y_test,pred):.3f}')\n",
    "print(f'MSE: {error:.3f}')\n",
    "\n",
    "model2 = neighbors.KNeighborsRegressor(n_neighbors = 7)\n",
    "model2.fit(X_train2, y_train2)  #fit the model\n",
    "pred2=model2.predict(X_test2) #make prediction on test set\n",
    "error2 = (mean_squared_error(y_test2,pred2)) #calculate rmse\n",
    "\n",
    "print('Model accuracies with feature selection')\n",
    "print(f'RSQ: {r2_score(y_test2,pred2):.3f}')\n",
    "print(f'MSE: {error2:.3f}')"
   ]
  }
 ],
 "metadata": {
  "language_info": {
   "name": "python"
  },
  "orig_nbformat": 4
 },
 "nbformat": 4,
 "nbformat_minor": 2
}
