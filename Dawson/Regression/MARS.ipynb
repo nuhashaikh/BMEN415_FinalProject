{
 "cells": [
  {
   "cell_type": "code",
   "execution_count": null,
   "metadata": {},
   "outputs": [],
   "source": [
    "#import libraries\n",
    "import pandas as pd\n",
    "import numpy as np\n",
    "import seaborn as sns\n",
    "import matplotlib.pyplot as plt\n",
    "from sklearn.model_selection import train_test_split\n",
    "from sklearn.preprocessing import StandardScaler\n",
    "from sklearn import neighbors\n",
    "from sklearn.metrics import mean_squared_error \n",
    "from math import sqrt\n",
    "from sklearn.metrics import r2_score\n",
    "from pyearth import Earth\n",
    "from sklearn.ensemble import GradientBoostingRegressor"
   ]
  },
  {
   "cell_type": "code",
   "execution_count": null,
   "metadata": {},
   "outputs": [],
   "source": [
    "#import data set and creat feature and target space\n",
    "df = pd.read_csv(r'Volumetric_features.csv')\n",
    "X=df.drop(columns=['S.No','dataset','Age'])\n",
    "y=df['Age']\n",
    "\n",
    "df.head(10)"
   ]
  },
  {
   "cell_type": "code",
   "execution_count": null,
   "metadata": {},
   "outputs": [],
   "source": [
    "df_new =df.drop(columns=['S.No','dataset'])\n",
    "correlation_matrix = df_new.corr()\n",
    "correlation_matrix['Age']\n",
    "\n",
    "cor_target = abs(correlation_matrix['Age']) \n",
    "\n",
    "features_to_drop = cor_target[cor_target<0.2] #script to eliminate features with low correlation\n",
    "to_drop_frame = features_to_drop.to_frame()\n",
    "row_names = to_drop_frame.index\n",
    "row_names_list = list(row_names)\n",
    "row_names_list.append('Age')\n",
    "row_names_list.append('S.No')\n",
    "row_names_list.append('dataset')\n",
    "y = df['Age'].values\n",
    "x = df.drop(row_names_list, axis=1)"
   ]
  },
  {
   "cell_type": "code",
   "execution_count": null,
   "metadata": {},
   "outputs": [],
   "source": [
    "#data space for model with and without feature selection\n",
    "X_train, X_test, y_train, y_test = train_test_split(X,y,test_size=0.25)\n",
    "X_train2,X_test2,y_train2,y_test2 = train_test_split(x,y,test_size=0.25) #model with feature selection\n",
    "\n",
    "#scaling features\n",
    "scaler = StandardScaler()\n",
    "scaler2 = StandardScaler()\n",
    "scaler.fit(X_train)\n",
    "scaler2.fit(X_train2)\n",
    "\n",
    "X_train = scaler.transform(X_train)\n",
    "X_test = scaler.transform(X_test)\n",
    "\n",
    "X_train2 = scaler2.transform(X_train2)\n",
    "X_test2 = scaler2.transform(X_test2)"
   ]
  },
  {
   "cell_type": "code",
   "execution_count": null,
   "metadata": {},
   "outputs": [],
   "source": [
    "#MARS models\n",
    "model=Earth()\n",
    "model.fit(X_train,y_train)\n",
    "pred=model.predict(X_test)\n",
    "print(model.summary()) "
   ]
  },
  {
   "cell_type": "code",
   "execution_count": null,
   "metadata": {},
   "outputs": [],
   "source": [
    "model2=Earth()\n",
    "model2.fit(X_train2,y_train2)\n",
    "pred2=model2.predict(X_test2)\n",
    "print(model2.summary())"
   ]
  },
  {
   "cell_type": "code",
   "execution_count": null,
   "metadata": {},
   "outputs": [],
   "source": [
    "print('Accuracies for model w/o feature selection')\n",
    "print('RSQ: 0.872')\n",
    "print('MSE: 51.801')\n",
    "print()\n",
    "print('Accuracies for model w/ feature selection')\n",
    "print('RSQ: 0.854')\n",
    "print('MSE: 58.488')"
   ]
  }
 ],
 "metadata": {
  "language_info": {
   "name": "python"
  },
  "orig_nbformat": 4
 },
 "nbformat": 4,
 "nbformat_minor": 2
}
