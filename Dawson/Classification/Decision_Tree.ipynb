{
 "cells": [
  {
   "cell_type": "code",
   "execution_count": null,
   "metadata": {},
   "outputs": [],
   "source": [
    "#import libraries\n",
    "import pandas as pd\n",
    "import numpy as np\n",
    "import seaborn as sns\n",
    "import matplotlib.pyplot as plt\n",
    "from sklearn.model_selection import train_test_split\n",
    "from sklearn.tree import DecisionTreeClassifier\n",
    "from sklearn.ensemble import RandomForestClassifier\n",
    "from sklearn.svm import SVC\n",
    "from sklearn.preprocessing import StandardScaler\n",
    "from sklearn.pipeline import make_pipeline\n",
    "from sklearn.metrics import accuracy_score\n",
    "from sklearn.metrics import plot_confusion_matrix"
   ]
  },
  {
   "cell_type": "code",
   "execution_count": null,
   "metadata": {},
   "outputs": [],
   "source": [
    "#import data set and convert diagnosis to numerical values\n",
    "df = pd.read_csv(r'breast-cancer.csv')\n",
    "df['diagnosis'].replace(['M','B'],[1,0],inplace=True) \n",
    "df.head()"
   ]
  },
  {
   "cell_type": "code",
   "execution_count": null,
   "metadata": {},
   "outputs": [],
   "source": [
    "#create correlation matrix \n",
    "d1= df.drop(columns=['id']) \n",
    "correlation_matrix = d1.corr()\n",
    "dataplot = sns.heatmap(correlation_matrix, cmap=\"YlGnBu\", annot=False)\n",
    "plt.show()"
   ]
  },
  {
   "cell_type": "code",
   "execution_count": null,
   "metadata": {},
   "outputs": [],
   "source": [
    "#printing features that have important correlation with diagnosis\n",
    "cor_target = abs(correlation_matrix['diagnosis']) \n",
    "relevant_features = cor_target[cor_target>0.1]\n",
    "print('Relevant features and their covariance:')\n",
    "print(relevant_features) "
   ]
  },
  {
   "cell_type": "code",
   "execution_count": null,
   "metadata": {},
   "outputs": [],
   "source": [
    "#check class imbalance\n",
    "df['diagnosis'].value_counts().plot(kind='bar')\n",
    "df['diagnosis'].value_counts()\n",
    "plt.ylabel('Number of Instances')\n",
    "plt.xlabel('0:Benign and 1:Malignant')\n",
    "plt.title('Class Imbalance')\n",
    "plt.show()"
   ]
  },
  {
   "cell_type": "code",
   "execution_count": null,
   "metadata": {},
   "outputs": [],
   "source": [
    "x=df.drop(columns=['id','diagnosis']) #setting feature space\n",
    "y=df['diagnosis'] #setting target column\n",
    "\n",
    "x_train,x_test,y_train,y_test=train_test_split(x,y,test_size=0.3,random_state=109) #creating data split\n",
    "\n",
    "d=DecisionTreeClassifier()\n",
    "d.fit(x_train,y_train)\n",
    "\n",
    "y_pred=d.predict(x_test)\n",
    "\n",
    "#model accuracy with no pre-processing applied\n",
    "print(f'The accuracy of the model is {d.score(x_test,y_test):.3f}')"
   ]
  },
  {
   "cell_type": "code",
   "execution_count": null,
   "metadata": {},
   "outputs": [],
   "source": [
    "#confusion matrix for the model\n",
    "plot_confusion_matrix(d,x_test, y_test)\n",
    "plt.show()"
   ]
  },
  {
   "cell_type": "code",
   "execution_count": null,
   "metadata": {},
   "outputs": [],
   "source": [
    "#feature importance for the model\n",
    "importance = d.feature_importances_ \n",
    "indices=np.argsort(importance)[::-1]\n",
    "#for i,v in enumerate(importance):\n",
    "#    print('Feature: %0d, Score: %.5f'% (i,v))\n",
    "plt.bar([x for x in range(len(importance))],importance)\n",
    "plt.xticks(range(x_train.shape[1]),x_train.columns[indices],rotation=90)\n",
    "plt.ylabel('Coefficient Weight')\n",
    "plt.title('Feature Importance')\n",
    "plt.show()"
   ]
  },
  {
   "cell_type": "code",
   "execution_count": null,
   "metadata": {},
   "outputs": [],
   "source": [
    "#script to eliminate features with low correlation\n",
    "features_to_drop = cor_target[cor_target<0.1] \n",
    "to_drop_frame = features_to_drop.to_frame()\n",
    "row_names = to_drop_frame.index\n",
    "row_names_list = list(row_names)\n",
    "row_names_list.append('diagnosis')\n",
    "row_names_list.append('id')\n",
    "y = df['diagnosis'].values\n",
    "X = df.drop(row_names_list, axis=1)"
   ]
  },
  {
   "cell_type": "code",
   "execution_count": null,
   "metadata": {},
   "outputs": [],
   "source": [
    "#new data space for the comparative model\n",
    "X_train,X_test,Y_train,Y_test=train_test_split(X,y,test_size=0.3,random_state=109) \n",
    "d2=DecisionTreeClassifier()\n",
    "d2.fit(X_train,Y_train)\n",
    "Y_pred2=d2.predict(X_test)\n",
    "\n",
    "print(f'The accuracy of the model is {d2.score(X_test,Y_test):.3f}')"
   ]
  },
  {
   "cell_type": "code",
   "execution_count": null,
   "metadata": {},
   "outputs": [],
   "source": [
    "#confusion matrix for the new model\n",
    "plot_confusion_matrix(d2,X_test, Y_test)\n",
    "plt.show()"
   ]
  },
  {
   "cell_type": "code",
   "execution_count": null,
   "metadata": {},
   "outputs": [],
   "source": [
    "#feature importance for the model\n",
    "importance2 = d2.feature_importances_ \n",
    "indices2=np.argsort(importance2)[::-1]\n",
    "#for i,v in enumerate(importance2):\n",
    "#    print('Feature: %0d, Score: %.5f'% (i,v))\n",
    "plt.bar([x for x in range(len(importance2))],importance2)\n",
    "plt.xticks(range(X_train.shape[1]),X_train.columns[indices2],rotation=90)\n",
    "plt.ylabel('Coefficient Weight')\n",
    "plt.title('Feature Importance')\n",
    "plt.show()"
   ]
  }
 ],
 "metadata": {
  "language_info": {
   "name": "python"
  },
  "orig_nbformat": 4
 },
 "nbformat": 4,
 "nbformat_minor": 2
}
