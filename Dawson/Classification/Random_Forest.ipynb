{
 "cells": [
  {
   "cell_type": "code",
   "execution_count": null,
   "metadata": {},
   "outputs": [],
   "source": [
    "#import libraries\n",
    "import pandas as pd\n",
    "import numpy as np\n",
    "import seaborn as sns\n",
    "import matplotlib.pyplot as plt\n",
    "from sklearn.model_selection import train_test_split\n",
    "from sklearn.tree import DecisionTreeClassifier\n",
    "from sklearn.ensemble import RandomForestClassifier\n",
    "from sklearn.svm import SVC\n",
    "from sklearn.preprocessing import StandardScaler\n",
    "from sklearn.pipeline import make_pipeline\n",
    "from sklearn.metrics import accuracy_score\n",
    "from sklearn.metrics import plot_confusion_matrix"
   ]
  },
  {
   "cell_type": "code",
   "execution_count": null,
   "metadata": {},
   "outputs": [],
   "source": [
    "#import data set and convert diagnosis to numerical values\n",
    "df = pd.read_csv(r'breast-cancer.csv')\n",
    "df['diagnosis'].replace(['M','B'],[1,0],inplace=True) \n",
    "df.head()"
   ]
  },
  {
   "cell_type": "code",
   "execution_count": null,
   "metadata": {},
   "outputs": [],
   "source": [
    "x=df.drop(columns=['id','diagnosis']) #setting feature space\n",
    "y=df['diagnosis'] #setting target column\n",
    "\n",
    "x_train,x_test,y_train,y_test=train_test_split(x,y,test_size=0.3,random_state=109) #creating data split\n",
    "\n",
    "#script to eliminate features with low correlation\n",
    "d1= df.drop(columns=['id']) \n",
    "correlation_matrix = d1.corr()\n",
    "cor_target = abs(correlation_matrix['diagnosis']) \n",
    "features_to_drop = cor_target[cor_target<0.1] \n",
    "to_drop_frame = features_to_drop.to_frame()\n",
    "row_names = to_drop_frame.index\n",
    "row_names_list = list(row_names)\n",
    "row_names_list.append('diagnosis')\n",
    "row_names_list.append('id')\n",
    "y = df['diagnosis'].values\n",
    "X = df.drop(row_names_list, axis=1)\n",
    "\n",
    "X_train,X_test,Y_train,Y_test=train_test_split(X,y,test_size=0.3,random_state=109) \n",
    "\n"
   ]
  },
  {
   "cell_type": "code",
   "execution_count": null,
   "metadata": {},
   "outputs": [],
   "source": [
    "#RFC Model determination number of trees in the forest\n",
    "n_est = [10,50,80,100,150]\n",
    "print('Random Forest with no pre-processing:')\n",
    "for i in n_est:\n",
    "    rf=RandomForestClassifier(n_estimators=i)\n",
    "    rf.fit(x_train,y_train)\n",
    "    y_pred=rf.predict(x_test)\n",
    "    print(f'For {i} estimators, the model accuracy is {accuracy_score(y_test,y_pred):.3f}')\n",
    "print()\n",
    "print('Random Forest with pre-processing:')\n",
    "for i in n_est:\n",
    "    rf2=RandomForestClassifier(n_estimators=i)\n",
    "    rf2.fit(X_train,Y_train)\n",
    "    y_pred2=rf2.predict(X_test)\n",
    "    print(f'For {i} estimators, the model accuracy is {accuracy_score(Y_test,y_pred2):.3f}')"
   ]
  },
  {
   "cell_type": "code",
   "execution_count": null,
   "metadata": {},
   "outputs": [],
   "source": [
    "rf2_new=RandomForestClassifier(n_estimators=80)\n",
    "rf2_new.fit(X_train,Y_train)\n",
    "y_pred2=rf2_new.predict(X_test)\n",
    "print(f'For 80 estimators, the model with pre-processing has an accuracy of {accuracy_score(Y_test,y_pred2):.3f}')"
   ]
  },
  {
   "cell_type": "code",
   "execution_count": null,
   "metadata": {},
   "outputs": [],
   "source": [
    "#confusion matrix for Random forest Model with pre-processing\n",
    "plot_confusion_matrix(rf2_new,X_test, Y_test)\n",
    "plt.show()"
   ]
  }
 ],
 "metadata": {
  "language_info": {
   "name": "python"
  },
  "orig_nbformat": 4
 },
 "nbformat": 4,
 "nbformat_minor": 2
}
