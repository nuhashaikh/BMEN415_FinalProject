{
 "cells": [
  {
   "cell_type": "code",
   "execution_count": 17,
   "id": "26d4c8ef",
   "metadata": {},
   "outputs": [],
   "source": [
    "#Data Pre-procesing Step  \n",
    "# importing libraries  \n",
    "import numpy as nm  \n",
    "import matplotlib.pyplot as mtp  \n",
    "import pandas as pd\n",
    "from sklearn import metrics\n",
    "from numpy import mean\n",
    "from numpy import std\n",
    "from sklearn.datasets import make_classification\n",
    "from sklearn.model_selection import cross_val_score\n",
    "from sklearn.model_selection import RepeatedStratifiedKFold\n",
    "from sklearn.ensemble import BaggingClassifier\n",
    "from sklearn.metrics import confusion_matrix\n",
    "from sklearn.model_selection import train_test_split\n",
    "from sklearn.naive_bayes import GaussianNB\n",
    "from sklearn.preprocessing import StandardScaler\n",
    "from sklearn.datasets import make_classification\n",
    "from sklearn.discriminant_analysis import LinearDiscriminantAnalysis \n",
    "from sklearn.metrics import confusion_matrix\n",
    "from sklearn.metrics import accuracy_score\n",
    "\n",
    "#importing datasets  \n",
    "data_set= pd.read_csv(r\"C:\\Users\\semil\\Documents\\Breast Cancer Data.csv\")"
   ]
  },
  {
   "cell_type": "code",
   "execution_count": 18,
   "id": "8cc591d1",
   "metadata": {},
   "outputs": [
    {
     "name": "stdout",
     "output_type": "stream",
     "text": [
      "(569, 29) (569,)\n"
     ]
    }
   ],
   "source": [
    "#Extracting Independent and dependent Variable  \n",
    "X= data_set.iloc[:, 2:31].values  \n",
    "y= data_set.iloc[:, 1].values  \n",
    "print(X.shape, y.shape)"
   ]
  },
  {
   "cell_type": "code",
   "execution_count": 19,
   "id": "feecb7b3",
   "metadata": {},
   "outputs": [
    {
     "name": "stdout",
     "output_type": "stream",
     "text": [
      "Accuracy for Bagging Trees: 0.950 (0.028)\n",
      "Confusion Matrix for Bagging Trees: \n",
      "[[35  0]\n",
      " [ 0 21]]\n"
     ]
    }
   ],
   "source": [
    "#BAGGING TREE MODEL\n",
    "\n",
    "# evaluate bagging algorithm for classification\n",
    "\n",
    "# define the model\n",
    "model = BaggingClassifier()\n",
    "\n",
    "# evaluate the model\n",
    "cv = RepeatedStratifiedKFold(n_splits=10, n_repeats=3, random_state=1)\n",
    "n_scores = cross_val_score(model, X, y, scoring='accuracy', cv=cv, n_jobs=-1, error_score='raise')\n",
    "\n",
    "\n",
    "for train_index, test_index in cv.split(X, y):\n",
    "    #print(\"TRAIN:\", train_index, \"TEST:\", test_index)\n",
    "    X_train, X_test = X[train_index], X[test_index]\n",
    "    y_train, y_test = y[train_index], y[test_index]\n",
    "    \n",
    "\n",
    "model.fit(X,y)\n",
    "y_pred = model.predict(X_test)\n",
    "\n",
    "# report performance\n",
    "print('Accuracy for Bagging Trees: %.3f (%.3f)' % (mean(n_scores), std(n_scores)))\n",
    "cm = confusion_matrix(y_test, y_pred)\n",
    "print('Confusion Matrix for Bagging Trees: ')\n",
    "print(cm)"
   ]
  },
  {
   "cell_type": "code",
   "execution_count": 22,
   "id": "aa15308e",
   "metadata": {},
   "outputs": [
    {
     "name": "stdout",
     "output_type": "stream",
     "text": [
      "Accuracy of the LDA model is: 0.9473684210526315\n",
      "The confusion matrix of the LDA model is:\n",
      "[[67  0]\n",
      " [ 6 41]]\n"
     ]
    }
   ],
   "source": [
    "#LDA MODEL\n",
    "\n",
    "#Split the data\n",
    "X_train_2, X_test_2, y_train_2, y_test_2 = train_test_split(X, y, test_size=0.2, random_state=0)\n",
    "\n",
    "\n",
    "#Create model \n",
    "clf = LinearDiscriminantAnalysis()\n",
    "clf.fit(X_train_2, y_train_2)\n",
    "\n",
    "y_pred_2 = clf.predict(X_test_2)\n",
    "\n",
    "#Evaluate model\n",
    "print('Accuracy of the LDA model is: ' + str(accuracy_score(y_test_2, y_pred_2)))\n",
    "cm = confusion_matrix(y_test_2, y_pred_2)\n",
    "print('The confusion matrix of the LDA model is:')\n",
    "print(cm)\n"
   ]
  },
  {
   "cell_type": "code",
   "execution_count": 21,
   "id": "3e9aca11",
   "metadata": {},
   "outputs": [
    {
     "name": "stdout",
     "output_type": "stream",
     "text": [
      "Accuracy for Naive Bayes model: 0.9532163742690059\n",
      "Confusion Matrix for Naive Bayes model:\n",
      "[[106   2]\n",
      " [  6  57]]\n"
     ]
    }
   ],
   "source": [
    "#NAIVE BAYES MODEL\n",
    "\n",
    "\n",
    "# Split dataset into training set and test set\n",
    "X_train_3, X_test_3, y_train_3, y_test_3 = train_test_split(X, y, test_size=0.3,random_state=109) # 70% training and 30% test\n",
    "\n",
    "\n",
    "#Create a Gaussian Classifier\n",
    "gnb = GaussianNB()\n",
    "\n",
    "#Train the model using the training sets\n",
    "gnb.fit(X_train_3, y_train_3)\n",
    "\n",
    "#Predict the response for test dataset\n",
    "y_pred_3 = gnb.predict(X_test_3)\n",
    "\n",
    "# Model Accuracy\n",
    "print(\"Accuracy for Naive Bayes model:\",metrics.accuracy_score(y_test_3, y_pred_3))\n",
    "cm = confusion_matrix(y_test_3, y_pred_3)\n",
    "print(\"Confusion Matrix for Naive Bayes model:\")\n",
    "print(cm)"
   ]
  },
  {
   "cell_type": "code",
   "execution_count": null,
   "id": "6026a83f",
   "metadata": {},
   "outputs": [],
   "source": []
  }
 ],
 "metadata": {
  "kernelspec": {
   "display_name": "Python 3 (ipykernel)",
   "language": "python",
   "name": "python3"
  },
  "language_info": {
   "codemirror_mode": {
    "name": "ipython",
    "version": 3
   },
   "file_extension": ".py",
   "mimetype": "text/x-python",
   "name": "python",
   "nbconvert_exporter": "python",
   "pygments_lexer": "ipython3",
   "version": "3.9.7"
  }
 },
 "nbformat": 4,
 "nbformat_minor": 5
}
